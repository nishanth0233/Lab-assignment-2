{
  "cells": [
    {
      "cell_type": "markdown",
      "metadata": {
        "id": "view-in-github",
        "colab_type": "text"
      },
      "source": [
        "<a href=\"https://colab.research.google.com/github/nishanth0233/Lab-assignment-2/blob/main/lab_assignment_02.ipynb\" target=\"_parent\"><img src=\"https://colab.research.google.com/assets/colab-badge.svg\" alt=\"Open In Colab\"/></a>"
      ]
    },
    {
      "cell_type": "markdown",
      "metadata": {
        "id": "Ryk8D1Q4Wsrp"
      },
      "source": [
        "# **The second Lab-assignment (02/04/2022, 50 points in total)**"
      ]
    },
    {
      "cell_type": "markdown",
      "source": [
        "##STUDENT NAME : NISHANTH SAI VARDHINENI\n",
        "##STUDENT ID : 11549326\n",
        "##MAIL ID : nishanthsaivardhineni@my.unt.edu"
      ],
      "metadata": {
        "id": "PsxT1ei20k7V"
      }
    },
    {
      "cell_type": "markdown",
      "metadata": {
        "id": "90_NR8c5XGWc"
      },
      "source": [
        "# Question 1\n",
        "\n",
        "(5 points). Write a Python program to generate 12 random numbers between 1 and 100. Sort the list of numbers in ascending order and print it out. Sort the list of numbers in descending order and print it out. Calculate the average for the group and print it out."
      ]
    },
    {
      "cell_type": "code",
      "execution_count": 15,
      "metadata": {
        "colab": {
          "base_uri": "https://localhost:8080/"
        },
        "id": "5QX6bJjGWXY9",
        "outputId": "a585bca6-ced4-45b8-ba9d-d44e4df2c211"
      },
      "outputs": [
        {
          "output_type": "stream",
          "name": "stdout",
          "text": [
            "12 random numbers between 1 to 100= [73, 7, 84, 38, 45, 22, 82, 6, 92, 68, 29, 80]\n",
            "random number in ascending order = [6, 7, 22, 29, 38, 45, 68, 73, 80, 82, 84, 92]\n",
            "random number in descending order = [92, 84, 82, 80, 73, 68, 45, 38, 29, 22, 7, 6]\n",
            "Average of the random numbers = 52.17\n"
          ]
        }
      ],
      "source": [
        "# Your code here\n",
        "import random\n",
        " \n",
        "# defining random function\n",
        "def Rand(start, end, num):\n",
        "    res = []\n",
        " \n",
        "    for j in range(num):\n",
        "        res.append(random.randint(start, end))\n",
        " \n",
        "    return res\n",
        " \n",
        "# Generating random numbers\n",
        "num = 12\n",
        "start = 1\n",
        "end = 100\n",
        "randNum=Rand(start, end, num)\n",
        "print(\"12 random numbers between 1 to 100=\", randNum)\n",
        "\n",
        "# Sorting in the ascending order\n",
        "randNum.sort()\n",
        "\n",
        "print(\"random number in ascending order =\", randNum)\n",
        "\n",
        "# Sorting in the descending order\n",
        "randNum.sort(reverse = True)\n",
        "\n",
        "print(\"random number in descending order =\", randNum)\n",
        "\n",
        "# average for the random number group\n",
        "\n",
        "#define average function\n",
        "def Average(lst):\n",
        "    return sum(lst) / len(lst)\n",
        "  \n",
        "average = Average(randNum)\n",
        "  \n",
        "# Printing average of the list\n",
        "print(\"Average of the random numbers =\", round(average, 2))\n",
        "\n"
      ]
    },
    {
      "cell_type": "markdown",
      "metadata": {
        "id": "1F_PZdH9Sh49"
      },
      "source": [
        "# Question 2\n",
        "(20 points). Write a program that will do the following string formatting tasks:\n",
        "\n",
        "(1) Ask the user to enter two sentences.\n",
        "\n",
        "(2) Make each sentence into a list. Each element in the list should correspond to a word in the sentence. For example, if the sentence is \"Alas! Am I alive? This is my first python program\", the program should print out ['Alas, '!', 'Am', 'I', 'alive, '?', 'This', 'is', 'my', 'first', 'python', 'program'].\n",
        "\n",
        "(3) Compare the two sentences. Print out a list of words that occur in both sentences.\n",
        "\n",
        "(4) Remove any punctuation from the sentence and print it back out. It should remove at least the following characters, but it can remove more: period(“.”), comma (“,”), semicolon (“;”), and colon (“:”)\n",
        "\n",
        "(5) Count the number of vowels in the sentences. Print out each vowel and the number of times it appears in the sentences, such as: a:2, e:1, i:0, etc"
      ]
    },
    {
      "cell_type": "code",
      "execution_count": 16,
      "metadata": {
        "colab": {
          "base_uri": "https://localhost:8080/"
        },
        "id": "Y0oOSlsOS0cq",
        "outputId": "60359339-6623-4e1e-d8c2-17b5c040fe7d"
      },
      "outputs": [
        {
          "output_type": "stream",
          "name": "stdout",
          "text": [
            "Enter two sentences:\n",
            "Hello ! How are you ?\n",
            "Hello I am fine ! How are you ?\n",
            "List of sentence 1:  {'How', 'are', '?', 'you', 'Hello', '!'}\n",
            "List of sentence 2:  {'I', 'How', 'are', '?', 'fine', 'am', 'Hello', 'you', '!'}\n",
            "List of words occuring in both sentences : {'How', 'are', '?', 'you', 'Hello', '!'}\n",
            "The original string is : This is a sentence! Only for testing, punctuations(.,:;) ;\n",
            "The string after removing punctuation : This is a sentence Only for testing punctuations \n"
          ]
        }
      ],
      "source": [
        "# Your code here\n",
        "#Ask user to enter two sentences\n",
        "\n",
        "print(\"Enter two sentences:\")\n",
        "\n",
        "str1 = input()\n",
        "str2=input()\n",
        "#Making each sentence into a list\n",
        "def convert(str):\n",
        "    lst=str.split()\n",
        "    return lst\n",
        " \n",
        "lst1=set(convert(str1))\n",
        "lst2=set(convert(str2))\n",
        "print(\"List of sentence 1: \",lst1)\n",
        "print(\"List of sentence 2: \",lst2)\n",
        "\n",
        "# comparing both sentences and printing out common words in both sentences\n",
        "common = lst1 & lst2\n",
        "print(\"List of words occuring in both sentences :\",common)\n",
        "\n",
        "# removing punctuations from a sentence\n",
        "test_str = \"This is a sentence! Only for testing, punctuations(.,:;) ;\"\n",
        "\n",
        "print(\"The original string is : \" + test_str)\n",
        " \n",
        "punc = '''!()-[]{};:'\"\\,<>./?@#$%^&*_~'''\n",
        " \n",
        "for ele in test_str:\n",
        "    if ele in punc:\n",
        "        test_str = test_str.replace(ele, \"\")\n",
        "\n",
        "print(\"The string after removing punctuation : \" + test_str)\n",
        "\n",
        "\n"
      ]
    },
    {
      "cell_type": "markdown",
      "metadata": {
        "id": "CmFoI4jDS9nx"
      },
      "source": [
        "# Question 3 \n",
        "\n",
        "(5 points). The formula that describes the volume V of a sphere with radius r is the following:\n",
        "\n",
        "$ V=\\frac{4}{3}\\ast\\ \\pi\\ast\\ r^3 $\n",
        "\n",
        "Write a program to calculate the value of V when r is in the range of 1–10. Output the result in the following format:\n",
        "\n",
        "\tr\tV\n",
        "\t1\t…\n",
        "\t2\t…\n",
        "\t3\t…\n"
      ]
    },
    {
      "cell_type": "code",
      "execution_count": 16,
      "metadata": {
        "colab": {
          "base_uri": "https://localhost:8080/"
        },
        "id": "pEyqeioAT95b",
        "outputId": "793a5d54-265f-43fd-a481-1b71338e9f59"
      },
      "outputs": [
        {
          "output_type": "stream",
          "name": "stdout",
          "text": [
            "r\tv\n",
            "1 \t 4.1887902047863905\n",
            "2 \t 33.510321638291124\n",
            "3 \t 113.09733552923254\n",
            "4 \t 268.082573106329\n",
            "5 \t 523.5987755982989\n",
            "6 \t 904.7786842338603\n",
            "7 \t 1436.7550402417319\n",
            "8 \t 2144.660584850632\n",
            "9 \t 3053.6280592892786\n",
            "10 \t 4188.790204786391\n"
          ]
        }
      ],
      "source": [
        "# Your code here\n",
        "#pi value\n",
        "pi = 3.1415926535897931\n",
        "print('r\tv')\n",
        "# using for loop\n",
        "for r in range(1, 11):\n",
        "\tV= 4.0/3.0*pi* r**3\n",
        "\tprint(r,'\t',V)\n"
      ]
    },
    {
      "cell_type": "markdown",
      "metadata": {
        "id": "z3tBE7E-Xn5X"
      },
      "source": [
        "# Question 4\n",
        "\n",
        "(20 points). In the field of Data Science, data is often formatted as a comma-delimited (CSV) file, where each line in a file corresponds to a field's value. Refer to Chapter 9 (p. 106) for more information on comma-delimited files. To answer this question, you will need to download the file [lab_assignment_02_denton_housing.csv](https://raw.githubusercontent.com/unt-iialab/info5502-spring2022/main/datasets/lab_assignment_02_denton_housing.csv) included with this assignment. The file [lab_assignment_02_denton_housing.csv](https://raw.githubusercontent.com/unt-iialab/info5502-spring2022/main/datasets/lab_assignment_02_denton_housing.csv) contains statistics about housing in the city of Denton from 2008 to 2014. Write a program to implement the following questions.\n",
        "\n",
        "(1) (10 pts) Calculate the difference in the number of Occupied Housing Units from year to year and print it. The difference must be calculated for the consecutive years such as 2008-2009, 2009-2010 etc. Finally, print the values in the ascending order.\n",
        "\n",
        "(2) (10 pts) For all the years, calculate the percentage of housing units which are vacant an occupied. Print the results in the following format:\n",
        "\n",
        "Year Vacant Housing Units Occupied Housing Units\n",
        "\n",
        "    2008  30%   70%                          \n",
        "\t2009 ----- -----\n",
        "\t2010 ----- -----\n",
        "    2011 ----- -----\n",
        "\t2012 ----- -----\n",
        "    2013 ----- -----\n",
        "\t2014 ----- -----\n",
        "  \n",
        "  \n",
        "\n",
        "(3) (10 pts) Calculate and print the valued and years in which the highest number of housing units were vacant and occupied. Print the results in the following format:  \n",
        "\n",
        "                              Year\tValue\n",
        "\tVacant Housing Units\t  -----   -----\n",
        "\tOccupied Housing Units\t-----   -----\n",
        "\n",
        "(4) (10 pts) Calculate the harmonic mean of the total housing units and print it out. You can find the information about harmonic mean here: https://ncalculators.com/statistics/harmonic-mean-calculator.htm"
      ]
    },
    {
      "cell_type": "code",
      "execution_count": 8,
      "metadata": {
        "colab": {
          "base_uri": "https://localhost:8080/"
        },
        "id": "lqGYuHBhcsRH",
        "outputId": "789510c5-ddb8-4301-a00d-40648bbe9ad7"
      },
      "outputs": [
        {
          "output_type": "stream",
          "name": "stdout",
          "text": [
            "2011-2010  303.0\n",
            "2009-2008  795.0\n",
            "2012-2011  1404.0\n",
            "2013-2012  1565.0\n",
            "2014-2013  2622.0\n",
            "2010-2009  5091.0\n"
          ]
        },
        {
          "output_type": "stream",
          "name": "stderr",
          "text": [
            "/usr/local/lib/python3.7/dist-packages/pandas/util/_decorators.py:311: SettingWithCopyWarning: \n",
            "A value is trying to be set on a copy of a slice from a DataFrame\n",
            "\n",
            "See the caveats in the documentation: https://pandas.pydata.org/pandas-docs/stable/user_guide/indexing.html#returning-a-view-versus-a-copy\n",
            "  return func(*args, **kwargs)\n",
            "/usr/local/lib/python3.7/dist-packages/ipykernel_launcher.py:10: SettingWithCopyWarning: \n",
            "A value is trying to be set on a copy of a slice from a DataFrame.\n",
            "Try using .loc[row_indexer,col_indexer] = value instead\n",
            "\n",
            "See the caveats in the documentation: https://pandas.pydata.org/pandas-docs/stable/user_guide/indexing.html#returning-a-view-versus-a-copy\n",
            "  # Remove the CWD from sys.path while we load stuff.\n"
          ]
        }
      ],
      "source": [
        "# Your code here\n",
        "\n",
        "#difference in the number of Occupied Housing Units from year to year\n",
        "\n",
        "import pandas as pd\n",
        "import numpy as np\n",
        "\n",
        "df=pd.read_csv(\"https://raw.githubusercontent.com/nishanth0233/Lab-assignment-2/81ab2c0a0fd9beab17bae95a1e4c64b952dbc760/lab_assignment_02_denton_housing.csv\")\n",
        "\n",
        "df1=df[df[\"title_field\"]=='Occupied Housing Units']\n",
        "df1.sort_values(by=['year'],ascending=True,inplace=True)\n",
        "df1[\"value_DIFF\"]=abs(df1[\"value\"].diff())\n",
        "df1=df1.dropna()\n",
        "df1=df1.reset_index(drop=True)\n",
        "df1.sort_values(by='value_DIFF',ascending=True,inplace=True)\n",
        "for ind in df1.index:\n",
        "        print(str(df1['year'][ind])+'-'+str(df1['year'][ind]-1),'',df1['value_DIFF'][ind])\n",
        "\n",
        "\n"
      ]
    },
    {
      "cell_type": "code",
      "source": [
        "# percentage of housing units which are vacant an occupied\n",
        "\n",
        "import math\n",
        "Value1=0.0\n",
        "Total=0.0\n",
        "df=df.reset_index(drop=True)\n",
        "for year in range(2008,2015):\n",
        "    Value1=df[(df['year'] == year) & (df['title_field'] == 'Vacant Housing Units')]['value'].values[0]\n",
        "    Value2=df[(df['year'] == year) & (df['title_field'] == 'Occupied Housing Units')]['value'].values[0]\n",
        "    Total=df[(df['year'] == year) & (df['title_field'] == 'Total Housing Units')]['value'].values[0] \n",
        "    Vac_Percentage=round((Value1/Total)*100)\n",
        "    Occ_Percentage=round((Value2/Total)*100)\n",
        "    print(year,str(Vac_Percentage)+'%','',str(Occ_Percentage)+'%')\n"
      ],
      "metadata": {
        "colab": {
          "base_uri": "https://localhost:8080/"
        },
        "id": "IucA4jL9zfMB",
        "outputId": "ab517992-1bc0-4bf6-fd90-2c49eb8cb46e"
      },
      "execution_count": 9,
      "outputs": [
        {
          "output_type": "stream",
          "name": "stdout",
          "text": [
            "2008 11%  89%\n",
            "2009 9%  91%\n",
            "2010 8%  92%\n",
            "2011 9%  91%\n",
            "2012 7%  93%\n",
            "2013 9%  91%\n",
            "2014 6%  94%\n"
          ]
        }
      ]
    },
    {
      "cell_type": "code",
      "source": [
        "# valued and years in which the highest number of housing units were vacant and occupied\n",
        "\n",
        "print('                    ','Year','Value')\n",
        "for i in ('Vacant Housing Units','Occupied Housing Units'):\n",
        "    value3=df[(df['title_field'] == i)]['value'].max()\n",
        "    value4=df[(df['title_field'] == i)]['year'].max()\n",
        "    print(i,value4,value3)"
      ],
      "metadata": {
        "colab": {
          "base_uri": "https://localhost:8080/"
        },
        "id": "uVhP9W4-z0_d",
        "outputId": "fe4f895b-9bf6-4e90-df7a-3f8fa24f7aca"
      },
      "execution_count": 10,
      "outputs": [
        {
          "output_type": "stream",
          "name": "stdout",
          "text": [
            "                     Year Value\n",
            "Vacant Housing Units 2014 4483\n",
            "Occupied Housing Units 2014 46295\n"
          ]
        }
      ]
    },
    {
      "cell_type": "code",
      "source": [
        "# harmonic mean of the total housing units\n",
        "\n",
        "import statistics\n",
        "\n",
        "print(statistics.harmonic_mean(df[(df['title_field'] == 'Total Housing Units')]['value']))"
      ],
      "metadata": {
        "colab": {
          "base_uri": "https://localhost:8080/"
        },
        "id": "T4nBryyh0FNX",
        "outputId": "72a56041-944a-4377-c5e2-4e3acc9b3ac5"
      },
      "execution_count": 14,
      "outputs": [
        {
          "output_type": "stream",
          "name": "stdout",
          "text": [
            "44398.28543969185\n"
          ]
        }
      ]
    }
  ],
  "metadata": {
    "colab": {
      "collapsed_sections": [],
      "name": "lab_assignment_02.ipynb",
      "provenance": [],
      "include_colab_link": true
    },
    "kernelspec": {
      "display_name": "Python 3",
      "language": "python",
      "name": "python3"
    },
    "language_info": {
      "codemirror_mode": {
        "name": "ipython",
        "version": 3
      },
      "file_extension": ".py",
      "mimetype": "text/x-python",
      "name": "python",
      "nbconvert_exporter": "python",
      "pygments_lexer": "ipython3",
      "version": "3.8.5"
    }
  },
  "nbformat": 4,
  "nbformat_minor": 0
}